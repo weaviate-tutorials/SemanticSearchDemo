{
 "cells": [
  {
   "cell_type": "code",
   "execution_count": null,
   "id": "204f9226",
   "metadata": {},
   "outputs": [],
   "source": [
    "# You need to install the python Weaviate client\n",
    "!pip install weaviate-client"
   ]
  },
  {
   "cell_type": "markdown",
   "id": "5da93764",
   "metadata": {},
   "source": [
    "## Download data\n",
    "Download data from [drive](https://drive.google.com/file/d/1W8nBPZA2j1_6AGnw2BAe6ydXLNXzuDq2/view?usp=share_link)"
   ]
  },
  {
   "cell_type": "markdown",
   "id": "fe10c32b",
   "metadata": {},
   "source": [
    "## Configure the Weaviate Cloud Instance\n",
    "### Free 14 day sandbox here: https://console.weaviate.cloud/"
   ]
  },
  {
   "cell_type": "code",
   "execution_count": 5,
   "id": "b6bfb80e",
   "metadata": {},
   "outputs": [
    {
     "data": {
      "text/plain": [
       "True"
      ]
     },
     "execution_count": 5,
     "metadata": {},
     "output_type": "execute_result"
    }
   ],
   "source": [
    "import os\n",
    "import weaviate\n",
    "from wcs_key import wcs_token\n",
    "\n",
    "auth_config = weaviate.auth.AuthApiKey(api_key=wcs_token)  # Replace w/ your API Key for the Weaviate instance\n",
    "\n",
    "client = weaviate.Client(\n",
    "    url=\"https://kgc-semanticsearch-demo-f2bsuu2s.weaviate.network\",\n",
    "    auth_client_secret=auth_config,\n",
    "    additional_headers={\n",
    "        \"X-Cohere-Api-Key\": os.getenv(\"COHERE_API_KEY\"),   # Replace w/ your Cohere Key \n",
    "        \"X-OpenAI-Api-Key\": os.getenv(\"OPENAI_API_KEY\"),   # Replace w/ your OpenAI Key \n",
    "    }\n",
    ")\n",
    "client.is_ready()"
   ]
  },
  {
   "cell_type": "markdown",
   "id": "395b6edc",
   "metadata": {},
   "source": [
    "## Create Database Schema"
   ]
  },
  {
   "cell_type": "code",
   "execution_count": 7,
   "id": "dde8cb41",
   "metadata": {},
   "outputs": [
    {
     "name": "stdout",
     "output_type": "stream",
     "text": [
      "The schema has been created\n"
     ]
    }
   ],
   "source": [
    "# delete existing schema, (note, this will delete all your weaviate data)\n",
    "#client.schema.delete_all()\n",
    "\n",
    "article_schema = {\n",
    "    \"class\": \"Article\",\n",
    "    \"description\": \"Wiki Article\",\n",
    "    \"vectorizer\": \"text2vec-cohere\",#multi-lingual\n",
    "    \"moduleConfig\": {\n",
    "        \"text2vec-cohere\": {\n",
    "            \"model\": \"multilingual-22-12\",\n",
    "            \"truncate\": \"RIGHT\"\n",
    "        }\n",
    "    },\n",
    "    \"vectorIndexConfig\": {\n",
    "        \"distance\": \"dot\"\n",
    "    },\n",
    "    \"properties\": [\n",
    "    {\n",
    "        \"name\": \"text\",\n",
    "        \"dataType\": [ \"text\" ],\n",
    "        \"description\": \"Article body\",\n",
    "        \"moduleConfig\": {\n",
    "            \"text2vec-cohere\": {\n",
    "                \"skip\": False,\n",
    "                \"vectorizePropertyName\": False\n",
    "            }\n",
    "        }\n",
    "    },\n",
    "    {\n",
    "        \"name\": \"title\",\n",
    "        \"dataType\": [ \"string\" ],\n",
    "        \"moduleConfig\": { \"text2vec-cohere\": { \"skip\": True } }\n",
    "    },\n",
    "    {\n",
    "        \"name\": \"url\",\n",
    "        \"dataType\": [ \"string\" ],\n",
    "        \"moduleConfig\": { \"text2vec-cohere\": { \"skip\": True } }\n",
    "    },\n",
    "    {\n",
    "        \"name\": \"wiki_id\",\n",
    "        \"dataType\": [ \"int\" ],\n",
    "        \"moduleConfig\": { \"text2vec-cohere\": { \"skip\": True } }\n",
    "    },\n",
    "    {\n",
    "        \"name\": \"views\",\n",
    "        \"dataType\": [ \"number\" ],\n",
    "        \"moduleConfig\": { \"text2vec-cohere\": { \"skip\": True } }\n",
    "    },\n",
    "    ]\n",
    "}\n",
    "\n",
    "# add the schema\n",
    "client.schema.create_class(article_schema)\n",
    "\n",
    "print(\"The schema has been created\")"
   ]
  },
  {
   "cell_type": "code",
   "execution_count": 8,
   "id": "0f2f1397",
   "metadata": {},
   "outputs": [
    {
     "data": {
      "text/plain": [
       "{'classes': [{'class': 'Article',\n",
       "   'description': 'Wiki Article',\n",
       "   'invertedIndexConfig': {'bm25': {'b': 0.75, 'k1': 1.2},\n",
       "    'cleanupIntervalSeconds': 60,\n",
       "    'stopwords': {'additions': None, 'preset': 'en', 'removals': None}},\n",
       "   'moduleConfig': {'text2vec-cohere': {'model': 'multilingual-22-12',\n",
       "     'truncate': 'RIGHT',\n",
       "     'vectorizeClassName': True}},\n",
       "   'properties': [{'dataType': ['text'],\n",
       "     'description': 'Article body',\n",
       "     'moduleConfig': {'text2vec-cohere': {'skip': False,\n",
       "       'vectorizePropertyName': False}},\n",
       "     'name': 'text',\n",
       "     'tokenization': 'word'},\n",
       "    {'dataType': ['string'],\n",
       "     'moduleConfig': {'text2vec-cohere': {'skip': True,\n",
       "       'vectorizePropertyName': False}},\n",
       "     'name': 'title',\n",
       "     'tokenization': 'word'},\n",
       "    {'dataType': ['string'],\n",
       "     'moduleConfig': {'text2vec-cohere': {'skip': True,\n",
       "       'vectorizePropertyName': False}},\n",
       "     'name': 'url',\n",
       "     'tokenization': 'word'},\n",
       "    {'dataType': ['int'],\n",
       "     'moduleConfig': {'text2vec-cohere': {'skip': True,\n",
       "       'vectorizePropertyName': False}},\n",
       "     'name': 'wiki_id'},\n",
       "    {'dataType': ['number'],\n",
       "     'moduleConfig': {'text2vec-cohere': {'skip': True,\n",
       "       'vectorizePropertyName': False}},\n",
       "     'name': 'views'}],\n",
       "   'replicationConfig': {'factor': 1},\n",
       "   'shardingConfig': {'virtualPerPhysical': 128,\n",
       "    'desiredCount': 1,\n",
       "    'actualCount': 1,\n",
       "    'desiredVirtualCount': 128,\n",
       "    'actualVirtualCount': 128,\n",
       "    'key': '_id',\n",
       "    'strategy': 'hash',\n",
       "    'function': 'murmur3'},\n",
       "   'vectorIndexConfig': {'skip': False,\n",
       "    'cleanupIntervalSeconds': 300,\n",
       "    'maxConnections': 64,\n",
       "    'efConstruction': 128,\n",
       "    'ef': -1,\n",
       "    'dynamicEfMin': 100,\n",
       "    'dynamicEfMax': 500,\n",
       "    'dynamicEfFactor': 8,\n",
       "    'vectorCacheMaxObjects': 1000000000000,\n",
       "    'flatSearchCutoff': 40000,\n",
       "    'distance': 'dot',\n",
       "    'pq': {'enabled': False,\n",
       "     'bitCompression': False,\n",
       "     'segments': 0,\n",
       "     'centroids': 256,\n",
       "     'encoder': {'type': 'kmeans', 'distribution': 'log-normal'}}},\n",
       "   'vectorIndexType': 'hnsw',\n",
       "   'vectorizer': 'text2vec-cohere'}]}"
      ]
     },
     "execution_count": 8,
     "metadata": {},
     "output_type": "execute_result"
    }
   ],
   "source": [
    "client.schema.get()"
   ]
  },
  {
   "cell_type": "code",
   "execution_count": 9,
   "id": "f1475bdb",
   "metadata": {},
   "outputs": [],
   "source": [
    "import pandas as pd\n",
    "df = pd.read_parquet('wiki_simple_100k.parquet')"
   ]
  },
  {
   "cell_type": "code",
   "execution_count": 10,
   "id": "64659c31",
   "metadata": {},
   "outputs": [
    {
     "data": {
      "text/html": [
       "<div>\n",
       "<style scoped>\n",
       "    .dataframe tbody tr th:only-of-type {\n",
       "        vertical-align: middle;\n",
       "    }\n",
       "\n",
       "    .dataframe tbody tr th {\n",
       "        vertical-align: top;\n",
       "    }\n",
       "\n",
       "    .dataframe thead th {\n",
       "        text-align: right;\n",
       "    }\n",
       "</style>\n",
       "<table border=\"1\" class=\"dataframe\">\n",
       "  <thead>\n",
       "    <tr style=\"text-align: right;\">\n",
       "      <th></th>\n",
       "      <th>id</th>\n",
       "      <th>title</th>\n",
       "      <th>text</th>\n",
       "      <th>url</th>\n",
       "      <th>wiki_id</th>\n",
       "      <th>views</th>\n",
       "      <th>paragraph_id</th>\n",
       "      <th>langs</th>\n",
       "      <th>emb</th>\n",
       "    </tr>\n",
       "  </thead>\n",
       "  <tbody>\n",
       "    <tr>\n",
       "      <th>0</th>\n",
       "      <td>0</td>\n",
       "      <td>24-hour clock</td>\n",
       "      <td>The 24-hour clock is a way of telling the time...</td>\n",
       "      <td>https://simple.wikipedia.org/wiki?curid=9985</td>\n",
       "      <td>9985</td>\n",
       "      <td>2450.625488</td>\n",
       "      <td>0</td>\n",
       "      <td>30</td>\n",
       "      <td>[0.07711287587881088, 0.3197174072265625, -0.2...</td>\n",
       "    </tr>\n",
       "    <tr>\n",
       "      <th>1</th>\n",
       "      <td>1</td>\n",
       "      <td>24-hour clock</td>\n",
       "      <td>A time in the 24-hour clock is written in the ...</td>\n",
       "      <td>https://simple.wikipedia.org/wiki?curid=9985</td>\n",
       "      <td>9985</td>\n",
       "      <td>2450.625488</td>\n",
       "      <td>1</td>\n",
       "      <td>30</td>\n",
       "      <td>[0.19612890481948853, 0.5142669677734375, 0.03...</td>\n",
       "    </tr>\n",
       "    <tr>\n",
       "      <th>2</th>\n",
       "      <td>2</td>\n",
       "      <td>24-hour clock</td>\n",
       "      <td>However, the US military prefers not to say 24...</td>\n",
       "      <td>https://simple.wikipedia.org/wiki?curid=9985</td>\n",
       "      <td>9985</td>\n",
       "      <td>2450.625488</td>\n",
       "      <td>2</td>\n",
       "      <td>30</td>\n",
       "      <td>[0.1391918957233429, 0.17759686708450317, -0.1...</td>\n",
       "    </tr>\n",
       "    <tr>\n",
       "      <th>3</th>\n",
       "      <td>3</td>\n",
       "      <td>24-hour clock</td>\n",
       "      <td>24-hour clock time is used in computers, milit...</td>\n",
       "      <td>https://simple.wikipedia.org/wiki?curid=9985</td>\n",
       "      <td>9985</td>\n",
       "      <td>2450.625488</td>\n",
       "      <td>3</td>\n",
       "      <td>30</td>\n",
       "      <td>[0.1279686838388443, 0.06708071380853653, -0.0...</td>\n",
       "    </tr>\n",
       "    <tr>\n",
       "      <th>4</th>\n",
       "      <td>4</td>\n",
       "      <td>24-hour clock</td>\n",
       "      <td>In railway timetables 24:00 means the \"end\" of...</td>\n",
       "      <td>https://simple.wikipedia.org/wiki?curid=9985</td>\n",
       "      <td>9985</td>\n",
       "      <td>2450.625488</td>\n",
       "      <td>4</td>\n",
       "      <td>30</td>\n",
       "      <td>[0.0753360167145729, 0.3530837893486023, -0.08...</td>\n",
       "    </tr>\n",
       "  </tbody>\n",
       "</table>\n",
       "</div>"
      ],
      "text/plain": [
       "   id          title                                               text  \\\n",
       "0   0  24-hour clock  The 24-hour clock is a way of telling the time...   \n",
       "1   1  24-hour clock  A time in the 24-hour clock is written in the ...   \n",
       "2   2  24-hour clock  However, the US military prefers not to say 24...   \n",
       "3   3  24-hour clock  24-hour clock time is used in computers, milit...   \n",
       "4   4  24-hour clock  In railway timetables 24:00 means the \"end\" of...   \n",
       "\n",
       "                                            url  wiki_id        views  \\\n",
       "0  https://simple.wikipedia.org/wiki?curid=9985     9985  2450.625488   \n",
       "1  https://simple.wikipedia.org/wiki?curid=9985     9985  2450.625488   \n",
       "2  https://simple.wikipedia.org/wiki?curid=9985     9985  2450.625488   \n",
       "3  https://simple.wikipedia.org/wiki?curid=9985     9985  2450.625488   \n",
       "4  https://simple.wikipedia.org/wiki?curid=9985     9985  2450.625488   \n",
       "\n",
       "   paragraph_id  langs                                                emb  \n",
       "0             0     30  [0.07711287587881088, 0.3197174072265625, -0.2...  \n",
       "1             1     30  [0.19612890481948853, 0.5142669677734375, 0.03...  \n",
       "2             2     30  [0.1391918957233429, 0.17759686708450317, -0.1...  \n",
       "3             3     30  [0.1279686838388443, 0.06708071380853653, -0.0...  \n",
       "4             4     30  [0.0753360167145729, 0.3530837893486023, -0.08...  "
      ]
     },
     "execution_count": 10,
     "metadata": {},
     "output_type": "execute_result"
    }
   ],
   "source": [
    "df.head()"
   ]
  },
  {
   "cell_type": "markdown",
   "id": "a2a86fb4",
   "metadata": {},
   "source": [
    "## Batch and Add 100k Wikipedia Articles to Weaviate"
   ]
  },
  {
   "cell_type": "code",
   "execution_count": 11,
   "id": "5f4a984c",
   "metadata": {},
   "outputs": [
    {
     "data": {
      "text/plain": [
       "<weaviate.batch.crud_batch.Batch at 0x7feb500532e0>"
      ]
     },
     "execution_count": 11,
     "metadata": {},
     "output_type": "execute_result"
    }
   ],
   "source": [
    "### Step 1 - configure Weaviate Batch, which optimizes CRUD operations in bulk\n",
    "# - starting batch size of 100\n",
    "# - dynamically increase/decrease based on performance\n",
    "# - add timeout retries if something goes wrong\n",
    "\n",
    "client.batch.configure(\n",
    "    batch_size=100,\n",
    "    dynamic=True,\n",
    "    timeout_retries=3,\n",
    ")"
   ]
  },
  {
   "cell_type": "code",
   "execution_count": 12,
   "id": "d92b1202",
   "metadata": {},
   "outputs": [
    {
     "name": "stdout",
     "output_type": "stream",
     "text": [
      "Import 100000 / 100000\n",
      "Import complete\n"
     ]
    }
   ],
   "source": [
    "data = df[:100_000] # make sure it is not more than 100k objects\n",
    "\n",
    "counter=0\n",
    "\n",
    "with client.batch as batch:\n",
    "    for idx, item in data.iterrows():        \n",
    "        # print update message every 100 objects        \n",
    "        if (counter %100 == 0):\n",
    "            print(f\"Import {counter} / {len(data)} \", end=\"\\r\")\n",
    "\n",
    "        properties = {\n",
    "        \"text\": item[\"text\"],\n",
    "        \"title\": item[\"title\"],\n",
    "        \"url\": item[\"url\"],\n",
    "        \"views\": item[\"views\"],\n",
    "        \"wiki_id\": item[\"wiki_id\"]\n",
    "        }\n",
    "\n",
    "        vector = item[\"emb\"]\n",
    "\n",
    "        batch.add_data_object(properties, \"Article\", None, vector)\n",
    "        counter = counter+1\n",
    "    print(f\"Import {counter} / {len(data)}\")\n",
    "        \n",
    "print(\"Import complete\")"
   ]
  },
  {
   "cell_type": "code",
   "execution_count": 34,
   "id": "249c4367",
   "metadata": {},
   "outputs": [
    {
     "name": "stdout",
     "output_type": "stream",
     "text": [
      "Object count:  [{'meta': {'count': 100000}}]\n"
     ]
    }
   ],
   "source": [
    "# Test that all data has loaded – get object count\n",
    "result = (\n",
    "    client.query.aggregate(\"Article\")\n",
    "    .with_fields(\"meta { count }\")\n",
    "    .do()\n",
    ")\n",
    "print(\"Object count: \", result[\"data\"][\"Aggregate\"][\"Article\"])"
   ]
  },
  {
   "cell_type": "code",
   "execution_count": 15,
   "id": "a004d241",
   "metadata": {},
   "outputs": [],
   "source": [
    "def print_result1(result):\n",
    "    for item in result:\n",
    "        print(f\"\\033[95m{item['title']} ({item['views']}) \\033[0m\")\n",
    "        print(f\"\\033[4m{item['url']}\\033[0m\")\n",
    "        print(item['text'])\n",
    "        print()"
   ]
  },
  {
   "cell_type": "markdown",
   "id": "c1f4f3af",
   "metadata": {},
   "source": [
    "## Search through your data\n",
    "1. Classic Key Word Search\n",
    "2. Vector(Semantic) Search"
   ]
  },
  {
   "cell_type": "markdown",
   "id": "6d8532e5",
   "metadata": {},
   "source": [
    "## Key word Search"
   ]
  },
  {
   "cell_type": "code",
   "execution_count": 17,
   "id": "556bda5c",
   "metadata": {},
   "outputs": [
    {
     "name": "stdout",
     "output_type": "stream",
     "text": [
      "Avocados have much more fat than most of the other fruits, but it's fat is healthy to eat (monounsaturated fat). Avocados have lots of potassium, B vitamins, and vitamin E and K. The Mexican food called guacamole is made of avocados. Many other foods are also made from avocado. Avocado is poisonous to some animals. Many animals will get very sick or die if they eat avocado. Avocado grows there where the climate is a little windy.\n"
     ]
    }
   ],
   "source": [
    "where_filter = {\n",
    "  \"path\": [\"title\"],\n",
    "  \"operator\": \"Like\",\n",
    "  \"valueString\": \"Avocado\"\n",
    "}\n",
    "\n",
    "query_result = (\n",
    "  client.query\n",
    "  .get(\"Article\", [\"title\", \"text\"])\n",
    "  .with_where(where_filter)\n",
    "  .do()\n",
    ")\n",
    "\n",
    "print(query_result['data']['Get']['Article'][0]['text'])\n",
    "#print_result1(query_result)"
   ]
  },
  {
   "cell_type": "code",
   "execution_count": 18,
   "id": "0d793047",
   "metadata": {},
   "outputs": [
    {
     "name": "stdout",
     "output_type": "stream",
     "text": [
      "Python is usually utilized for creating sites and programming, task robotization, information investigation, and information representation. Since it's moderately simple to learn, Python has been taken on by numerous non-software engineers like bookkeepers and researchers, for different regular undertakings, such as coordinating funds.\n"
     ]
    }
   ],
   "source": [
    "where_filter = {\n",
    "  \"path\": [\"title\"],\n",
    "  \"operator\": \"Like\",\n",
    "  \"valueString\": \"Python\"\n",
    "}\n",
    "\n",
    "query_result = (\n",
    "  client.query\n",
    "  .get(\"Article\", [\"title\", \"text\"])\n",
    "  .with_where(where_filter)\n",
    "  .do()\n",
    ")\n",
    "\n",
    "print(query_result['data']['Get']['Article'][0]['text'])\n",
    "#print_result1(query_result)"
   ]
  },
  {
   "cell_type": "code",
   "execution_count": 19,
   "id": "5ad87c31",
   "metadata": {},
   "outputs": [
    {
     "name": "stdout",
     "output_type": "stream",
     "text": [
      "Most snakes live on the ground, and in the trees. Others live in the water, and a few live under the soil. Like other reptiles, snakes are ectotherms. They control their body temperature by moving in and out of the direct sunshine. That is why they are rare in cold places.\n"
     ]
    }
   ],
   "source": [
    "where_filter = {\n",
    "  \"path\": [\"title\"],\n",
    "  \"operator\": \"Like\",\n",
    "  \"valueString\": \"Snake\"\n",
    "}\n",
    "\n",
    "query_result = (\n",
    "  client.query\n",
    "  .get(\"Article\", [\"title\", \"text\"])\n",
    "  .with_where(where_filter)\n",
    "  .do()\n",
    ")\n",
    "\n",
    "print(query_result['data']['Get']['Article'][0]['text'])\n",
    "#print_result1(query_result)"
   ]
  },
  {
   "cell_type": "markdown",
   "id": "43524973",
   "metadata": {},
   "source": [
    "## Semantic Search"
   ]
  },
  {
   "cell_type": "code",
   "execution_count": 20,
   "id": "e91b3ad0",
   "metadata": {},
   "outputs": [],
   "source": [
    "def semantic_search(query):\n",
    "    nearText = {\n",
    "        \"concepts\": [query],\n",
    "#         \"distance\": -139.0,\n",
    "    }\n",
    "\n",
    "    properties = [\n",
    "        \"text\", \"title\", \"url\", \"views\",\n",
    "        \"_additional {distance}\"\n",
    "    ]\n",
    "\n",
    "    response = (\n",
    "        client.query\n",
    "        .get(\"Article\", properties)\n",
    "        .with_near_text(nearText)\n",
    "        .with_limit(5)\n",
    "        .do()\n",
    "    )\n",
    "\n",
    "    result = response['data']['Get']['Article']\n",
    "\n",
    "    return result\n",
    "    \n",
    "def print_result(result):\n",
    "    for item in result:\n",
    "        print(f\"\\033[95m{item['title']} ({item['views']}) {item['_additional']['distance']}\\033[0m\")\n",
    "        print(f\"\\033[4m{item['url']}\\033[0m\")\n",
    "        print(item['text'])\n",
    "        print()"
   ]
  },
  {
   "cell_type": "code",
   "execution_count": 21,
   "id": "d5922148",
   "metadata": {},
   "outputs": [
    {
     "name": "stdout",
     "output_type": "stream",
     "text": [
      "\u001b[95mPython (programming language) (398.0628356933594) -147.34064\u001b[0m\n",
      "\u001b[4mhttps://simple.wikipedia.org/wiki?curid=44678\u001b[0m\n",
      "Python has become one of the most famous programming languages on the world as of late. It's utilized in all that from AI to building sites and programming testing. It tends to be utilized by engineers and non-designers the same.\n",
      "\n",
      "\u001b[95mC++ (194.4631805419922) -146.67387\u001b[0m\n",
      "\u001b[4mhttps://simple.wikipedia.org/wiki?curid=7535\u001b[0m\n",
      "C++ (pronounced \"see plus plus\") is a computer programming language based on C. It was created for writing programs for many different purposes. In the 1990s, C++ became one of the most used programming languages in the world. Like C, C++ uses manual memory management (unlike most mainstream languages, where memory management is automatic), while the syntax usually used for it is different.\n",
      "\n",
      "\u001b[95mCentral processing unit (575.814453125) -146.48938\u001b[0m\n",
      "\u001b[4mhttps://simple.wikipedia.org/wiki?curid=17376\u001b[0m\n",
      "Machine code is just a sequence of 0s and 1s, which makes it difficult for humans to read it. To make it more readable, machine code programs are usually written in \"assembly language\". Assembly language uses text instead of 0s and 1s: You might write \"LD A,0\" to load the value 0 into register A for example. A program that translates assembly language into machine code is called an \"assembler\".\n",
      "\n",
      "\u001b[95mPython (programming language) (398.0628356933594) -146.35106\u001b[0m\n",
      "\u001b[4mhttps://simple.wikipedia.org/wiki?curid=44678\u001b[0m\n",
      "Because of its corporate sponsorship and huge steady local area of python, python has amazing libraries that you can use to choose and save your time and exertion on the underlying pattern of improvement. There are additionally heaps of cloud media benefits that get stage support through library-like apparatuses, which can be very gainful.\n",
      "\n",
      "\u001b[95mProgramming language (574.8416748046875) -146.30487\u001b[0m\n",
      "\u001b[4mhttps://simple.wikipedia.org/wiki?curid=6362\u001b[0m\n",
      "Object-oriented programming is used in many of today's most popular programming languages, such as Java, C#, Objective-C, C++, Python, Ruby, Javascript, and ActionScript.\n",
      "\n"
     ]
    }
   ],
   "source": [
    "query_result = semantic_search(\"a programming language used for machine learning\")\n",
    "\n",
    "print_result(query_result)"
   ]
  },
  {
   "cell_type": "markdown",
   "id": "844728c4",
   "metadata": {},
   "source": [
    "## This is a Multi-Lingual Model! - It understands different languages ..."
   ]
  },
  {
   "cell_type": "code",
   "execution_count": 22,
   "id": "59cc15dc",
   "metadata": {},
   "outputs": [
    {
     "name": "stdout",
     "output_type": "stream",
     "text": [
      "\u001b[95mGoodfellas (59.27198791503906) -145.6997\u001b[0m\n",
      "\u001b[4mhttps://simple.wikipedia.org/wiki?curid=18427\u001b[0m\n",
      "Goodfellas is a 1990 American biographical crime movie directed by Martin Scorsese. It is about life in the Mafia.\n",
      "\n",
      "\u001b[95mGoodfellas (59.27198791503906) -144.94539\u001b[0m\n",
      "\u001b[4mhttps://simple.wikipedia.org/wiki?curid=18427\u001b[0m\n",
      "It is set in New York City. The movie is based on the life of mafioso Henry Hill (1943-2012) from 1955 - 1980. \"Goodfellas\" uses information from New York crime reporter Nicholas Pileggi's book \"Wiseguy\". Scorsese and Pileggi worked together to write the movie.\n",
      "\n",
      "\u001b[95mGoodfellas (59.27198791503906) -144.38777\u001b[0m\n",
      "\u001b[4mhttps://simple.wikipedia.org/wiki?curid=18427\u001b[0m\n",
      "\"Goodfellas\" was first shown at the 1990 Venice Film Festival. Scorsese received the Silver Lion award for Best Director.\n",
      "\n",
      "\u001b[95mBen Affleck (118.5960922241211) -144.36804\u001b[0m\n",
      "\u001b[4mhttps://simple.wikipedia.org/wiki?curid=64729\u001b[0m\n",
      "Benjamin Géza Affleck-Boldt (born August 15, 1972) is an American actor, movie director, producer and screenwriter. He became well known in the late 1990s, after acting in the movie \"Good Will Hunting\". He has since become a Hollywood star having acted in several movies.\n",
      "\n",
      "\u001b[95mGoodfellas (59.27198791503906) -144.3625\u001b[0m\n",
      "\u001b[4mhttps://simple.wikipedia.org/wiki?curid=18427\u001b[0m\n",
      "It gained six nominations for Oscars. It won one (for Joe Pesci's role). Many people thought the movie was great.\n",
      "\n"
     ]
    }
   ],
   "source": [
    "# This is a multi-lingual model so it can take in queries in different languages!\n",
    "\n",
    "#good movies in hindi\n",
    "\n",
    "query_result = semantic_search(\"अच्छी फिल्में\")\n",
    "\n",
    "print_result(query_result)"
   ]
  },
  {
   "cell_type": "code",
   "execution_count": 23,
   "id": "6214567f",
   "metadata": {},
   "outputs": [
    {
     "name": "stdout",
     "output_type": "stream",
     "text": [
      "\u001b[95mBaden-Württemberg (37.600975036621094) -145.33817\u001b[0m\n",
      "\u001b[4mhttps://simple.wikipedia.org/wiki?curid=2907\u001b[0m\n",
      "The Black forest, the Swabian Alb and the Lake Constance are world famous holiday regions. The highest mountain is the Feldberg (1492m).\n",
      "\n",
      "\u001b[95mGuernsey (373.6320495605469) -144.96051\u001b[0m\n",
      "\u001b[4mhttps://simple.wikipedia.org/wiki?curid=11615\u001b[0m\n",
      "Castel, Forest, St Andrews, St Martins, St Peter Port, St Pierre du bois, St Sampson, St Saviour's, Torteval, Vale.\n",
      "\n",
      "\u001b[95mLeisure (127.69661712646484) -144.43259\u001b[0m\n",
      "\u001b[4mhttps://simple.wikipedia.org/wiki?curid=423\u001b[0m\n",
      "A vacation or holiday is the setting aside of time specifically for leisure. During their vacation, some people travel to a different region or country, and stay at a hotel so that they can do things they could not do near home. Other people prefer to spend their vacation time at home in their own community.\n",
      "\n",
      "\u001b[95mThe Bahamas (103.01834869384766) -143.8995\u001b[0m\n",
      "\u001b[4mhttps://simple.wikipedia.org/wiki?curid=10487\u001b[0m\n",
      "The Bahamas are a popular place for people to visit for holidays, the 700 islands and cays attract many visitors from nearby America, as well as Europe and other countries.\n",
      "\n",
      "\u001b[95mFaroe Islands (66.96114349365234) -143.83974\u001b[0m\n",
      "\u001b[4mhttps://simple.wikipedia.org/wiki?curid=19078\u001b[0m\n",
      "The national holiday Ólavsøka, is on 29 July. It commemorates the death of Saint Olaf. The celebrations are held in Tórshavn. They start on the evening of the 28th, and go until 31 July.\n",
      "\n"
     ]
    }
   ],
   "source": [
    "#vacation spots in Farsi\n",
    "\n",
    "query_result = semantic_search(\"مکان های تعطیلات\")\n",
    "\n",
    "print_result(query_result)"
   ]
  },
  {
   "cell_type": "code",
   "execution_count": 24,
   "id": "07dd0b3f",
   "metadata": {},
   "outputs": [
    {
     "name": "stdout",
     "output_type": "stream",
     "text": [
      "\u001b[95mVirat Kohli (839.5772705078125) -151.58066\u001b[0m\n",
      "\u001b[4mhttps://simple.wikipedia.org/wiki?curid=454146\u001b[0m\n",
      "Virat Kohli first came into the limelight in 2008, when he led the Indian U-19 cricket team to victory in 2008 U-19 Cricket World Cup He soon made his debut for the Indian team in August 2008. during a ODI match against in Sri Lanka. Virat also became one of the valuable Indian captain in Test cricket with 27 test wins, 12 overseas test wins and highest winning percentage as captain in both Tests and ODIs. Kohli was ranked eighth in ESPN's list of world's most famous sportspeople in 2016. Virat is the only current player to have a stand named after him in Delhi Firoz Shah Kotla stadium to honour his immaculate contributions to Indian cricket.\n",
      "\n",
      "\u001b[95mRahul Dravid (60.60616683959961) -149.63435\u001b[0m\n",
      "\u001b[4mhttps://simple.wikipedia.org/wiki?curid=547524\u001b[0m\n",
      "Rahul Dravid is a sports player who has stopped playing professionally. He used to play cricket and was captain of the national cricket team of India. He was famous, and many people think he is one of the best cricket players ever. He scored the fourth-moust runs of any player, after Sachin Tendulkar, Ricky Ponting and Jacques Kallis. He was born in January 11, 1973 in Indore, Madhya Pradesh in India. He is the only player in the world to score a century against all ten test playing countries.\n",
      "\n",
      "\u001b[95mSachin Tendulkar (177.61460876464844) -149.19772\u001b[0m\n",
      "\u001b[4mhttps://simple.wikipedia.org/wiki?curid=188032\u001b[0m\n",
      "Sachin Ramesh Tendulkar (born 24 April 1973 in Mumbai) is a former Indian cricketer. He has the highest number of runs in both Test cricket and One Day Internationals. He also has the highest number of centuries in both formats of the game. His last Test match being played against the West Indies.He always honoured better players than him like Garfield Sobers or Don Bradman.\n",
      "\n",
      "\u001b[95mVirender Sehwag (41.067840576171875) -149.15155\u001b[0m\n",
      "\u001b[4mhttps://simple.wikipedia.org/wiki?curid=569045\u001b[0m\n",
      "Virender Sehwag is a former Indian cricketer and former captain of the Indian National Cricket Team. He was renowned as a destructive and aggressive player. He holds numerous records in international and Indian cricket. He is a right arm batsman and right arm off-spin bowler.\n",
      "\n",
      "\u001b[95mVirender Sehwag (41.067840576171875) -148.69095\u001b[0m\n",
      "\u001b[4mhttps://simple.wikipedia.org/wiki?curid=569045\u001b[0m\n",
      "Sehwag was the first Indian batsman to score Triple century in Test cricket. He scored 319 off 278 balls against South Africa in M. A. Chidambaram Stadium. It is the fastest triple century since then. He holds the massive Indian record of scoring the fastest 300,250,200 and 150 in Test cricket. Sehwag is the only personality of any nationality to be honoured as the Wisden Leading Cricketer in the World twice.\n",
      "\n"
     ]
    }
   ],
   "source": [
    "query_result = semantic_search(\"famous cricketer in India\")\n",
    "\n",
    "# Print out the result\n",
    "print_result(query_result)"
   ]
  },
  {
   "cell_type": "markdown",
   "id": "b379f9c7",
   "metadata": {},
   "source": [
    "## 100K Documents?? Those are rooky numbers ... Lets try searching over ~10M objects!"
   ]
  },
  {
   "cell_type": "code",
   "execution_count": 25,
   "id": "26178c15",
   "metadata": {},
   "outputs": [
    {
     "data": {
      "text/plain": [
       "True"
      ]
     },
     "execution_count": 25,
     "metadata": {},
     "output_type": "execute_result"
    }
   ],
   "source": [
    "import os\n",
    "import weaviate\n",
    "from wcs_key import wcs_token\n",
    "\n",
    "auth_config = weaviate.auth.AuthApiKey(api_key=\"76320a90-53d8-42bc-b41d-678647c6672e\")   # Replace w/ your API Key for the Weaviate instance\n",
    "\n",
    "client2 = weaviate.Client(\n",
    "    url=\"https://cohere-demo.weaviate.network/\",\n",
    "    auth_client_secret=auth_config,\n",
    "    additional_headers={\n",
    "        \"X-Cohere-Api-Key\": os.getenv(\"COHERE_API_KEY\"),   # Replace w/ your Cohere Key \n",
    "        \"X-OpenAI-Api-Key\": os.getenv(\"OPENAI_API_KEY\"),   # Replace w/ your OpenAI Key \n",
    "    }\n",
    ")\n",
    "client2.is_ready()"
   ]
  },
  {
   "cell_type": "code",
   "execution_count": 28,
   "id": "af8e195a",
   "metadata": {},
   "outputs": [
    {
     "name": "stdout",
     "output_type": "stream",
     "text": [
      "Object count:  [{'meta': {'count': 9436199}}]\n"
     ]
    }
   ],
   "source": [
    "result = (\n",
    "    client2.query.aggregate(\"Articles\")\n",
    "    .with_fields(\"meta { count }\")\n",
    "    .do()\n",
    ")\n",
    "print(\"Object count: \", result[\"data\"][\"Aggregate\"][\"Articles\"])"
   ]
  },
  {
   "cell_type": "code",
   "execution_count": 32,
   "id": "c99733df",
   "metadata": {},
   "outputs": [],
   "source": [
    "def semantic_search2(query):\n",
    "    nearText = {\n",
    "        \"concepts\": [query],\n",
    "#         \"distance\": -139.0,\n",
    "    }\n",
    "\n",
    "    properties = [\n",
    "        \"text\", \"title\", \"url\", \"views\",\n",
    "        \"_additional {distance}\"\n",
    "    ]\n",
    "\n",
    "    response = (\n",
    "        client2.query\n",
    "        .get(\"Articles\", properties)\n",
    "        .with_near_text(nearText)\n",
    "        .with_limit(5)\n",
    "        .do()\n",
    "    )\n",
    "\n",
    "    result = response['data']['Get']['Articles']\n",
    "\n",
    "    return result\n",
    "    \n",
    "def print_result2(result):\n",
    "    for item in result:\n",
    "        print(f\"\\033[95m{item['title']} ({item['views']}) {item['_additional']['distance']}\\033[0m\")\n",
    "        print(f\"\\033[4m{item['url']}\\033[0m\")\n",
    "        print(item['text'])\n",
    "        print()"
   ]
  },
  {
   "cell_type": "code",
   "execution_count": 33,
   "id": "60ec26d5",
   "metadata": {},
   "outputs": [
    {
     "name": "stdout",
     "output_type": "stream",
     "text": [
      "\u001b[95mPython (programming language) (3000) -149.55988\u001b[0m\n",
      "\u001b[4mhttps://en.wikipedia.org/wiki?curid=23862\u001b[0m\n",
      "Python is commonly used in artificial intelligence projects and machine learning projects with the help of libraries like TensorFlow, Keras, Pytorch, and scikit-learn. As a scripting language with a modular architecture, simple syntax, and rich text processing tools, Python is often used for natural language processing.\n",
      "\n",
      "\u001b[95mR (programming language) (2000) -148.33429\u001b[0m\n",
      "\u001b[4mhttps://en.wikipedia.org/wiki?curid=376707\u001b[0m\n",
      "According to user surveys and studies of scholarly literature databases, R is one of the most commonly used programming languages used in data mining. R ranks 12th in the TIOBE index, a measure of programming language popularity, in which the language peaked in 8th place in August 2020.\n",
      "\n",
      "\u001b[95mPython (programming language) (3000) -147.94357\u001b[0m\n",
      "\u001b[4mhttps://en.wikipedia.org/wiki?curid=23862\u001b[0m\n",
      "Due to Python's extensive mathematics library, and the third-party library NumPy that further extends the native capabilities, it is frequently used as a scientific scripting language to aid in problems such as numerical data processing and manipulation.\n",
      "\n",
      "\u001b[95mPython (programming language) (3000) -147.26576\u001b[0m\n",
      "\u001b[4mhttps://en.wikipedia.org/wiki?curid=23862\u001b[0m\n",
      "Python uses dynamic typing and a combination of reference counting and a cycle-detecting garbage collector for memory management. It uses dynamic name resolution (late binding), which binds method and variable names during program execution.\n",
      "\n",
      "\u001b[95mC (programming language) (3000) -147.21288\u001b[0m\n",
      "\u001b[4mhttps://en.wikipedia.org/wiki?curid=6021\u001b[0m\n",
      "C is widely used for systems programming in implementing operating systems and embedded system applications. This is for several reasons:\n",
      "\n"
     ]
    }
   ],
   "source": [
    "query_result = semantic_search2(\"a programming language used for machine learning\")\n",
    "\n",
    "print_result2(query_result)"
   ]
  }
 ],
 "metadata": {
  "kernelspec": {
   "display_name": "Python 3 (ipykernel)",
   "language": "python",
   "name": "python3"
  },
  "language_info": {
   "codemirror_mode": {
    "name": "ipython",
    "version": 3
   },
   "file_extension": ".py",
   "mimetype": "text/x-python",
   "name": "python",
   "nbconvert_exporter": "python",
   "pygments_lexer": "ipython3",
   "version": "3.9.15"
  }
 },
 "nbformat": 4,
 "nbformat_minor": 5
}
